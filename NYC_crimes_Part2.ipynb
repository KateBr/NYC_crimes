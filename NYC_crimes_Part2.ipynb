{
 "cells": [
  {
   "cell_type": "markdown",
   "metadata": {},
   "source": [
    "## NYC crimes Part2"
   ]
  },
  {
   "cell_type": "code",
   "execution_count": 2,
   "metadata": {},
   "outputs": [],
   "source": [
    "# Load libraries\n",
    "import numpy as np \n",
    "import pandas as pd \n",
    "from subprocess import check_output\n",
    "import matplotlib.pyplot as plt\n",
    "import seaborn as sns"
   ]
  },
  {
   "cell_type": "code",
   "execution_count": 3,
   "metadata": {},
   "outputs": [],
   "source": [
    "%matplotlib inline \n",
    "import matplotlib\n",
    "matplotlib.style.use('ggplot')"
   ]
  },
  {
   "cell_type": "code",
   "execution_count": 4,
   "metadata": {},
   "outputs": [],
   "source": [
    "import glob, re\n",
    "from sklearn import *\n",
    "from datetime import datetime\n",
    "from xgboost import XGBRegressor"
   ]
  },
  {
   "cell_type": "code",
   "execution_count": 5,
   "metadata": {},
   "outputs": [],
   "source": [
    "np.random.seed(10)\n",
    "\n",
    "from sklearn.preprocessing import LabelEncoder\n",
    "from sklearn.preprocessing import MinMaxScaler\n",
    "from sklearn.metrics import mean_squared_error"
   ]
  },
  {
   "cell_type": "markdown",
   "metadata": {
    "_cell_guid": "51340418-bc4c-422c-b818-e298c00cee01",
    "_uuid": "fb62ece54cd6bae9192911b8b1498dfd73b393b8"
   },
   "source": [
    "### 1.1. Data import and aggregation"
   ]
  },
  {
   "cell_type": "code",
   "execution_count": 5,
   "metadata": {
    "_cell_guid": "899733d1-b239-4cb5-9d87-b16f9ab0111b",
    "_uuid": "b8e3eceff3d3edb5f3617fd5a7799f0947fb9f60"
   },
   "outputs": [],
   "source": [
    "# Data Aggregation\n",
    "Data = pd.read_csv('Data.csv')"
   ]
  },
  {
   "cell_type": "code",
   "execution_count": 6,
   "metadata": {
    "scrolled": true
   },
   "outputs": [
    {
     "data": {
      "text/html": [
       "<div>\n",
       "<style scoped>\n",
       "    .dataframe tbody tr th:only-of-type {\n",
       "        vertical-align: middle;\n",
       "    }\n",
       "\n",
       "    .dataframe tbody tr th {\n",
       "        vertical-align: top;\n",
       "    }\n",
       "\n",
       "    .dataframe thead th {\n",
       "        text-align: right;\n",
       "    }\n",
       "</style>\n",
       "<table border=\"1\" class=\"dataframe\">\n",
       "  <thead>\n",
       "    <tr style=\"text-align: right;\">\n",
       "      <th></th>\n",
       "      <th>Unnamed: 0</th>\n",
       "      <th>CMPLNT_NUM</th>\n",
       "      <th>ADDR_PCT_CD</th>\n",
       "      <th>PD_DESC</th>\n",
       "      <th>CRM_ATPT_CPTD_CD</th>\n",
       "      <th>LAW_CAT_CD</th>\n",
       "      <th>BORO_NM</th>\n",
       "      <th>LOC_OF_OCCUR_DESC</th>\n",
       "      <th>PREM_TYP_DESC</th>\n",
       "      <th>JURIS_DESC</th>\n",
       "      <th>...</th>\n",
       "      <th>Latitude</th>\n",
       "      <th>Longitude</th>\n",
       "      <th>Lat_Lon</th>\n",
       "      <th>PATROL_BORO</th>\n",
       "      <th>Crime_date</th>\n",
       "      <th>month</th>\n",
       "      <th>day</th>\n",
       "      <th>dw</th>\n",
       "      <th>dy</th>\n",
       "      <th>year</th>\n",
       "    </tr>\n",
       "  </thead>\n",
       "  <tbody>\n",
       "    <tr>\n",
       "      <th>0</th>\n",
       "      <td>5268</td>\n",
       "      <td>479939731</td>\n",
       "      <td>83.0</td>\n",
       "      <td>BURGLARY,RESIDENCE,DAY</td>\n",
       "      <td>COMPLETED</td>\n",
       "      <td>FELONY</td>\n",
       "      <td>BROOKLYN</td>\n",
       "      <td>INSIDE</td>\n",
       "      <td>RESIDENCE - APT. HOUSE</td>\n",
       "      <td>N.Y. POLICE DEPT</td>\n",
       "      <td>...</td>\n",
       "      <td>40.694791</td>\n",
       "      <td>-73.926244</td>\n",
       "      <td>(40.694790591, -73.926244422)</td>\n",
       "      <td>PATROL BORO BKLYN NORTH</td>\n",
       "      <td>2018-03-31</td>\n",
       "      <td>3</td>\n",
       "      <td>31</td>\n",
       "      <td>5</td>\n",
       "      <td>90</td>\n",
       "      <td>2018</td>\n",
       "    </tr>\n",
       "    <tr>\n",
       "      <th>1</th>\n",
       "      <td>5269</td>\n",
       "      <td>363411847</td>\n",
       "      <td>77.0</td>\n",
       "      <td>BURGLARY,RESIDENCE,NIGHT</td>\n",
       "      <td>COMPLETED</td>\n",
       "      <td>FELONY</td>\n",
       "      <td>BROOKLYN</td>\n",
       "      <td>INSIDE</td>\n",
       "      <td>RESIDENCE - APT. HOUSE</td>\n",
       "      <td>N.Y. POLICE DEPT</td>\n",
       "      <td>...</td>\n",
       "      <td>40.672261</td>\n",
       "      <td>-73.965030</td>\n",
       "      <td>(40.672260603, -73.965029797)</td>\n",
       "      <td>PATROL BORO BKLYN NORTH</td>\n",
       "      <td>2018-03-31</td>\n",
       "      <td>3</td>\n",
       "      <td>31</td>\n",
       "      <td>5</td>\n",
       "      <td>90</td>\n",
       "      <td>2018</td>\n",
       "    </tr>\n",
       "    <tr>\n",
       "      <th>2</th>\n",
       "      <td>5271</td>\n",
       "      <td>206569444</td>\n",
       "      <td>77.0</td>\n",
       "      <td>BURGLARY,RESIDENCE,DAY</td>\n",
       "      <td>COMPLETED</td>\n",
       "      <td>FELONY</td>\n",
       "      <td>BROOKLYN</td>\n",
       "      <td>INSIDE</td>\n",
       "      <td>RESIDENCE - APT. HOUSE</td>\n",
       "      <td>N.Y. POLICE DEPT</td>\n",
       "      <td>...</td>\n",
       "      <td>40.672261</td>\n",
       "      <td>-73.965030</td>\n",
       "      <td>(40.672260603, -73.965029797)</td>\n",
       "      <td>PATROL BORO BKLYN NORTH</td>\n",
       "      <td>2018-03-31</td>\n",
       "      <td>3</td>\n",
       "      <td>31</td>\n",
       "      <td>5</td>\n",
       "      <td>90</td>\n",
       "      <td>2018</td>\n",
       "    </tr>\n",
       "    <tr>\n",
       "      <th>3</th>\n",
       "      <td>5272</td>\n",
       "      <td>656107443</td>\n",
       "      <td>115.0</td>\n",
       "      <td>BURGLARY,RESIDENCE,NIGHT</td>\n",
       "      <td>COMPLETED</td>\n",
       "      <td>FELONY</td>\n",
       "      <td>QUEENS</td>\n",
       "      <td>INSIDE</td>\n",
       "      <td>RESIDENCE - APT. HOUSE</td>\n",
       "      <td>N.Y. POLICE DEPT</td>\n",
       "      <td>...</td>\n",
       "      <td>40.751867</td>\n",
       "      <td>-73.893221</td>\n",
       "      <td>(40.751866686, -73.893221445)</td>\n",
       "      <td>PATROL BORO QUEENS NORTH</td>\n",
       "      <td>2018-03-31</td>\n",
       "      <td>3</td>\n",
       "      <td>31</td>\n",
       "      <td>5</td>\n",
       "      <td>90</td>\n",
       "      <td>2018</td>\n",
       "    </tr>\n",
       "    <tr>\n",
       "      <th>4</th>\n",
       "      <td>5273</td>\n",
       "      <td>622935108</td>\n",
       "      <td>25.0</td>\n",
       "      <td>BURGLARY,RESIDENCE,DAY</td>\n",
       "      <td>COMPLETED</td>\n",
       "      <td>FELONY</td>\n",
       "      <td>MANHATTAN</td>\n",
       "      <td>INSIDE</td>\n",
       "      <td>RESIDENCE - APT. HOUSE</td>\n",
       "      <td>N.Y. POLICE DEPT</td>\n",
       "      <td>...</td>\n",
       "      <td>40.798160</td>\n",
       "      <td>-73.938403</td>\n",
       "      <td>(40.798159532, -73.938402699)</td>\n",
       "      <td>PATROL BORO MAN NORTH</td>\n",
       "      <td>2018-03-31</td>\n",
       "      <td>3</td>\n",
       "      <td>31</td>\n",
       "      <td>5</td>\n",
       "      <td>90</td>\n",
       "      <td>2018</td>\n",
       "    </tr>\n",
       "  </tbody>\n",
       "</table>\n",
       "<p>5 rows × 21 columns</p>\n",
       "</div>"
      ],
      "text/plain": [
       "   Unnamed: 0  CMPLNT_NUM  ADDR_PCT_CD                   PD_DESC  \\\n",
       "0        5268   479939731         83.0    BURGLARY,RESIDENCE,DAY   \n",
       "1        5269   363411847         77.0  BURGLARY,RESIDENCE,NIGHT   \n",
       "2        5271   206569444         77.0    BURGLARY,RESIDENCE,DAY   \n",
       "3        5272   656107443        115.0  BURGLARY,RESIDENCE,NIGHT   \n",
       "4        5273   622935108         25.0    BURGLARY,RESIDENCE,DAY   \n",
       "\n",
       "  CRM_ATPT_CPTD_CD LAW_CAT_CD    BORO_NM LOC_OF_OCCUR_DESC  \\\n",
       "0        COMPLETED     FELONY   BROOKLYN            INSIDE   \n",
       "1        COMPLETED     FELONY   BROOKLYN            INSIDE   \n",
       "2        COMPLETED     FELONY   BROOKLYN            INSIDE   \n",
       "3        COMPLETED     FELONY     QUEENS            INSIDE   \n",
       "4        COMPLETED     FELONY  MANHATTAN            INSIDE   \n",
       "\n",
       "            PREM_TYP_DESC        JURIS_DESC  ...   Latitude  Longitude  \\\n",
       "0  RESIDENCE - APT. HOUSE  N.Y. POLICE DEPT  ...  40.694791 -73.926244   \n",
       "1  RESIDENCE - APT. HOUSE  N.Y. POLICE DEPT  ...  40.672261 -73.965030   \n",
       "2  RESIDENCE - APT. HOUSE  N.Y. POLICE DEPT  ...  40.672261 -73.965030   \n",
       "3  RESIDENCE - APT. HOUSE  N.Y. POLICE DEPT  ...  40.751867 -73.893221   \n",
       "4  RESIDENCE - APT. HOUSE  N.Y. POLICE DEPT  ...  40.798160 -73.938403   \n",
       "\n",
       "                         Lat_Lon               PATROL_BORO  Crime_date month  \\\n",
       "0  (40.694790591, -73.926244422)   PATROL BORO BKLYN NORTH  2018-03-31     3   \n",
       "1  (40.672260603, -73.965029797)   PATROL BORO BKLYN NORTH  2018-03-31     3   \n",
       "2  (40.672260603, -73.965029797)   PATROL BORO BKLYN NORTH  2018-03-31     3   \n",
       "3  (40.751866686, -73.893221445)  PATROL BORO QUEENS NORTH  2018-03-31     3   \n",
       "4  (40.798159532, -73.938402699)     PATROL BORO MAN NORTH  2018-03-31     3   \n",
       "\n",
       "   day  dw  dy  year  \n",
       "0   31   5  90  2018  \n",
       "1   31   5  90  2018  \n",
       "2   31   5  90  2018  \n",
       "3   31   5  90  2018  \n",
       "4   31   5  90  2018  \n",
       "\n",
       "[5 rows x 21 columns]"
      ]
     },
     "execution_count": 6,
     "metadata": {},
     "output_type": "execute_result"
    }
   ],
   "source": [
    "Data.head()"
   ]
  },
  {
   "cell_type": "code",
   "execution_count": 7,
   "metadata": {},
   "outputs": [
    {
     "name": "stdout",
     "output_type": "stream",
     "text": [
      "<class 'pandas.core.frame.DataFrame'>\n",
      "RangeIndex: 155037 entries, 0 to 155036\n",
      "Data columns (total 21 columns):\n",
      "Unnamed: 0           155037 non-null int64\n",
      "CMPLNT_NUM           155037 non-null int64\n",
      "ADDR_PCT_CD          155014 non-null float64\n",
      "PD_DESC              155037 non-null object\n",
      "CRM_ATPT_CPTD_CD     155037 non-null object\n",
      "LAW_CAT_CD           155037 non-null object\n",
      "BORO_NM              154900 non-null object\n",
      "LOC_OF_OCCUR_DESC    154435 non-null object\n",
      "PREM_TYP_DESC        154748 non-null object\n",
      "JURIS_DESC           155037 non-null object\n",
      "JURISDICTION_CODE    155037 non-null int64\n",
      "Latitude             154554 non-null float64\n",
      "Longitude            154554 non-null float64\n",
      "Lat_Lon              154554 non-null object\n",
      "PATROL_BORO          155013 non-null object\n",
      "Crime_date           155037 non-null object\n",
      "month                155037 non-null int64\n",
      "day                  155037 non-null int64\n",
      "dw                   155037 non-null int64\n",
      "dy                   155037 non-null int64\n",
      "year                 155037 non-null int64\n",
      "dtypes: float64(3), int64(8), object(10)\n",
      "memory usage: 24.8+ MB\n"
     ]
    }
   ],
   "source": [
    "Data.info()"
   ]
  },
  {
   "cell_type": "code",
   "execution_count": 8,
   "metadata": {},
   "outputs": [
    {
     "data": {
      "text/plain": [
       "array([ 83.,  77., 115.,  25.,  42.,   5.,  52.,  79., 102.,  44.,  19.,\n",
       "        69.,   6., 113.,  94., 105.,  48.,  62.,  61.,  17.,  73.,  32.,\n",
       "        34.,  43.,   1., 107., 122.,  71.,  67.,  33.,  10., 109.,  60.,\n",
       "        47., 114.,  28., 120.,  46.,  41.,   9.,  75.,  68.,  24.,  76.,\n",
       "       110.,  50., 101., 106., 111.,   7.,  30., 108.,  49.,  84.,  63.,\n",
       "        81.,  45., 121., 104.,  70.,  78.,  20.,  23., 100.,  90., 103.,\n",
       "        40.,  14.,  66.,  72., 112., 123.,  26.,  18.,  13.,  88.,  22.,\n",
       "        nan])"
      ]
     },
     "execution_count": 8,
     "metadata": {},
     "output_type": "execute_result"
    }
   ],
   "source": [
    "Data.ADDR_PCT_CD.unique()"
   ]
  },
  {
   "cell_type": "code",
   "execution_count": 9,
   "metadata": {},
   "outputs": [
    {
     "data": {
      "text/plain": [
       "array(['BROOKLYN', 'QUEENS', 'MANHATTAN', 'BRONX', 'STATEN ISLAND', nan],\n",
       "      dtype=object)"
      ]
     },
     "execution_count": 9,
     "metadata": {},
     "output_type": "execute_result"
    }
   ],
   "source": [
    "Data.BORO_NM.unique()"
   ]
  },
  {
   "cell_type": "code",
   "execution_count": 10,
   "metadata": {},
   "outputs": [
    {
     "data": {
      "text/plain": [
       "array(['PATROL BORO BKLYN NORTH', 'PATROL BORO QUEENS NORTH',\n",
       "       'PATROL BORO MAN NORTH', 'PATROL BORO BRONX',\n",
       "       'PATROL BORO MAN SOUTH', 'PATROL BORO QUEENS SOUTH',\n",
       "       'PATROL BORO BKLYN SOUTH', 'PATROL BORO STATEN ISLAND', nan],\n",
       "      dtype=object)"
      ]
     },
     "execution_count": 10,
     "metadata": {},
     "output_type": "execute_result"
    }
   ],
   "source": [
    "Data.PATROL_BORO.unique()"
   ]
  },
  {
   "cell_type": "code",
   "execution_count": 11,
   "metadata": {},
   "outputs": [
    {
     "data": {
      "text/html": [
       "<div>\n",
       "<style scoped>\n",
       "    .dataframe tbody tr th:only-of-type {\n",
       "        vertical-align: middle;\n",
       "    }\n",
       "\n",
       "    .dataframe tbody tr th {\n",
       "        vertical-align: top;\n",
       "    }\n",
       "\n",
       "    .dataframe thead th {\n",
       "        text-align: right;\n",
       "    }\n",
       "</style>\n",
       "<table border=\"1\" class=\"dataframe\">\n",
       "  <thead>\n",
       "    <tr style=\"text-align: right;\">\n",
       "      <th></th>\n",
       "      <th>Unnamed: 0</th>\n",
       "      <th>CMPLNT_NUM</th>\n",
       "      <th>ADDR_PCT_CD</th>\n",
       "      <th>JURISDICTION_CODE</th>\n",
       "      <th>Latitude</th>\n",
       "      <th>Longitude</th>\n",
       "      <th>month</th>\n",
       "      <th>day</th>\n",
       "      <th>dw</th>\n",
       "      <th>dy</th>\n",
       "      <th>year</th>\n",
       "    </tr>\n",
       "  </thead>\n",
       "  <tbody>\n",
       "    <tr>\n",
       "      <th>count</th>\n",
       "      <td>155037.000000</td>\n",
       "      <td>1.550370e+05</td>\n",
       "      <td>155014.000000</td>\n",
       "      <td>155037.000000</td>\n",
       "      <td>154554.000000</td>\n",
       "      <td>154554.000000</td>\n",
       "      <td>155037.000000</td>\n",
       "      <td>155037.000000</td>\n",
       "      <td>155037.000000</td>\n",
       "      <td>155037.000000</td>\n",
       "      <td>155037.000000</td>\n",
       "    </tr>\n",
       "    <tr>\n",
       "      <th>mean</th>\n",
       "      <td>82835.272200</td>\n",
       "      <td>5.496751e+08</td>\n",
       "      <td>73.026656</td>\n",
       "      <td>0.204635</td>\n",
       "      <td>40.724914</td>\n",
       "      <td>-73.910675</td>\n",
       "      <td>6.665273</td>\n",
       "      <td>15.779169</td>\n",
       "      <td>2.761141</td>\n",
       "      <td>187.519928</td>\n",
       "      <td>2010.905461</td>\n",
       "    </tr>\n",
       "    <tr>\n",
       "      <th>std</th>\n",
       "      <td>44756.626726</td>\n",
       "      <td>2.596783e+08</td>\n",
       "      <td>31.355621</td>\n",
       "      <td>3.368495</td>\n",
       "      <td>0.083519</td>\n",
       "      <td>0.080135</td>\n",
       "      <td>3.460495</td>\n",
       "      <td>8.808529</td>\n",
       "      <td>1.942554</td>\n",
       "      <td>105.811564</td>\n",
       "      <td>3.361665</td>\n",
       "    </tr>\n",
       "    <tr>\n",
       "      <th>min</th>\n",
       "      <td>5268.000000</td>\n",
       "      <td>1.000054e+08</td>\n",
       "      <td>1.000000</td>\n",
       "      <td>0.000000</td>\n",
       "      <td>40.498905</td>\n",
       "      <td>-74.254560</td>\n",
       "      <td>1.000000</td>\n",
       "      <td>1.000000</td>\n",
       "      <td>0.000000</td>\n",
       "      <td>1.000000</td>\n",
       "      <td>2006.000000</td>\n",
       "    </tr>\n",
       "    <tr>\n",
       "      <th>25%</th>\n",
       "      <td>44076.000000</td>\n",
       "      <td>3.244054e+08</td>\n",
       "      <td>48.000000</td>\n",
       "      <td>0.000000</td>\n",
       "      <td>40.666535</td>\n",
       "      <td>-73.955829</td>\n",
       "      <td>4.000000</td>\n",
       "      <td>8.000000</td>\n",
       "      <td>1.000000</td>\n",
       "      <td>96.000000</td>\n",
       "      <td>2008.000000</td>\n",
       "    </tr>\n",
       "    <tr>\n",
       "      <th>50%</th>\n",
       "      <td>82836.000000</td>\n",
       "      <td>5.503841e+08</td>\n",
       "      <td>73.000000</td>\n",
       "      <td>0.000000</td>\n",
       "      <td>40.710179</td>\n",
       "      <td>-73.916407</td>\n",
       "      <td>7.000000</td>\n",
       "      <td>16.000000</td>\n",
       "      <td>3.000000</td>\n",
       "      <td>193.000000</td>\n",
       "      <td>2011.000000</td>\n",
       "    </tr>\n",
       "    <tr>\n",
       "      <th>75%</th>\n",
       "      <td>121595.000000</td>\n",
       "      <td>7.743717e+08</td>\n",
       "      <td>104.000000</td>\n",
       "      <td>0.000000</td>\n",
       "      <td>40.786895</td>\n",
       "      <td>-73.864993</td>\n",
       "      <td>10.000000</td>\n",
       "      <td>23.000000</td>\n",
       "      <td>4.000000</td>\n",
       "      <td>278.000000</td>\n",
       "      <td>2014.000000</td>\n",
       "    </tr>\n",
       "    <tr>\n",
       "      <th>max</th>\n",
       "      <td>160413.000000</td>\n",
       "      <td>9.999640e+08</td>\n",
       "      <td>123.000000</td>\n",
       "      <td>97.000000</td>\n",
       "      <td>40.912723</td>\n",
       "      <td>-73.700720</td>\n",
       "      <td>12.000000</td>\n",
       "      <td>31.000000</td>\n",
       "      <td>6.000000</td>\n",
       "      <td>366.000000</td>\n",
       "      <td>2018.000000</td>\n",
       "    </tr>\n",
       "  </tbody>\n",
       "</table>\n",
       "</div>"
      ],
      "text/plain": [
       "          Unnamed: 0    CMPLNT_NUM    ADDR_PCT_CD  JURISDICTION_CODE  \\\n",
       "count  155037.000000  1.550370e+05  155014.000000      155037.000000   \n",
       "mean    82835.272200  5.496751e+08      73.026656           0.204635   \n",
       "std     44756.626726  2.596783e+08      31.355621           3.368495   \n",
       "min      5268.000000  1.000054e+08       1.000000           0.000000   \n",
       "25%     44076.000000  3.244054e+08      48.000000           0.000000   \n",
       "50%     82836.000000  5.503841e+08      73.000000           0.000000   \n",
       "75%    121595.000000  7.743717e+08     104.000000           0.000000   \n",
       "max    160413.000000  9.999640e+08     123.000000          97.000000   \n",
       "\n",
       "            Latitude      Longitude          month            day  \\\n",
       "count  154554.000000  154554.000000  155037.000000  155037.000000   \n",
       "mean       40.724914     -73.910675       6.665273      15.779169   \n",
       "std         0.083519       0.080135       3.460495       8.808529   \n",
       "min        40.498905     -74.254560       1.000000       1.000000   \n",
       "25%        40.666535     -73.955829       4.000000       8.000000   \n",
       "50%        40.710179     -73.916407       7.000000      16.000000   \n",
       "75%        40.786895     -73.864993      10.000000      23.000000   \n",
       "max        40.912723     -73.700720      12.000000      31.000000   \n",
       "\n",
       "                  dw             dy           year  \n",
       "count  155037.000000  155037.000000  155037.000000  \n",
       "mean        2.761141     187.519928    2010.905461  \n",
       "std         1.942554     105.811564       3.361665  \n",
       "min         0.000000       1.000000    2006.000000  \n",
       "25%         1.000000      96.000000    2008.000000  \n",
       "50%         3.000000     193.000000    2011.000000  \n",
       "75%         4.000000     278.000000    2014.000000  \n",
       "max         6.000000     366.000000    2018.000000  "
      ]
     },
     "execution_count": 11,
     "metadata": {},
     "output_type": "execute_result"
    }
   ],
   "source": [
    "Data.describe()"
   ]
  },
  {
   "cell_type": "code",
   "execution_count": 12,
   "metadata": {},
   "outputs": [],
   "source": [
    "Data = Data.drop(['Unnamed: 0' , 'CMPLNT_NUM','LAW_CAT_CD'], axis=1)"
   ]
  },
  {
   "cell_type": "code",
   "execution_count": 13,
   "metadata": {},
   "outputs": [],
   "source": [
    "Data = Data.drop(['JURISDICTION_CODE' , 'Lat_Lon'], axis=1)"
   ]
  },
  {
   "cell_type": "code",
   "execution_count": 14,
   "metadata": {},
   "outputs": [
    {
     "name": "stdout",
     "output_type": "stream",
     "text": [
      "<class 'pandas.core.frame.DataFrame'>\n",
      "RangeIndex: 155037 entries, 0 to 155036\n",
      "Data columns (total 16 columns):\n",
      "ADDR_PCT_CD          155014 non-null float64\n",
      "PD_DESC              155037 non-null object\n",
      "CRM_ATPT_CPTD_CD     155037 non-null object\n",
      "BORO_NM              154900 non-null object\n",
      "LOC_OF_OCCUR_DESC    154435 non-null object\n",
      "PREM_TYP_DESC        154748 non-null object\n",
      "JURIS_DESC           155037 non-null object\n",
      "Latitude             154554 non-null float64\n",
      "Longitude            154554 non-null float64\n",
      "PATROL_BORO          155013 non-null object\n",
      "Crime_date           155037 non-null object\n",
      "month                155037 non-null int64\n",
      "day                  155037 non-null int64\n",
      "dw                   155037 non-null int64\n",
      "dy                   155037 non-null int64\n",
      "year                 155037 non-null int64\n",
      "dtypes: float64(3), int64(5), object(8)\n",
      "memory usage: 18.9+ MB\n"
     ]
    }
   ],
   "source": [
    "Data.info()"
   ]
  },
  {
   "cell_type": "code",
   "execution_count": 131,
   "metadata": {},
   "outputs": [],
   "source": [
    "Data['Crime_date'] = pd.to_datetime(Data['Crime_date'])"
   ]
  },
  {
   "cell_type": "code",
   "execution_count": 15,
   "metadata": {},
   "outputs": [],
   "source": [
    "df = pd.DataFrame(Data)"
   ]
  },
  {
   "cell_type": "markdown",
   "metadata": {},
   "source": [
    "### 1.2. Data aggregation"
   ]
  },
  {
   "cell_type": "code",
   "execution_count": 16,
   "metadata": {},
   "outputs": [
    {
     "data": {
      "text/html": [
       "<div>\n",
       "<style scoped>\n",
       "    .dataframe tbody tr th:only-of-type {\n",
       "        vertical-align: middle;\n",
       "    }\n",
       "\n",
       "    .dataframe tbody tr th {\n",
       "        vertical-align: top;\n",
       "    }\n",
       "\n",
       "    .dataframe thead th {\n",
       "        text-align: right;\n",
       "    }\n",
       "</style>\n",
       "<table border=\"1\" class=\"dataframe\">\n",
       "  <thead>\n",
       "    <tr style=\"text-align: right;\">\n",
       "      <th></th>\n",
       "      <th>Crime_date</th>\n",
       "      <th>ADDR_PCT_CD</th>\n",
       "      <th>BORO_NM</th>\n",
       "      <th>PATROL_BORO</th>\n",
       "      <th>Burglary_count</th>\n",
       "    </tr>\n",
       "  </thead>\n",
       "  <tbody>\n",
       "    <tr>\n",
       "      <th>0</th>\n",
       "      <td>2006-01-01</td>\n",
       "      <td>7.0</td>\n",
       "      <td>MANHATTAN</td>\n",
       "      <td>PATROL BORO MAN SOUTH</td>\n",
       "      <td>1</td>\n",
       "    </tr>\n",
       "    <tr>\n",
       "      <th>1</th>\n",
       "      <td>2006-01-01</td>\n",
       "      <td>9.0</td>\n",
       "      <td>MANHATTAN</td>\n",
       "      <td>PATROL BORO MAN SOUTH</td>\n",
       "      <td>1</td>\n",
       "    </tr>\n",
       "    <tr>\n",
       "      <th>2</th>\n",
       "      <td>2006-01-01</td>\n",
       "      <td>19.0</td>\n",
       "      <td>MANHATTAN</td>\n",
       "      <td>PATROL BORO MAN NORTH</td>\n",
       "      <td>1</td>\n",
       "    </tr>\n",
       "    <tr>\n",
       "      <th>3</th>\n",
       "      <td>2006-01-01</td>\n",
       "      <td>28.0</td>\n",
       "      <td>MANHATTAN</td>\n",
       "      <td>PATROL BORO MAN NORTH</td>\n",
       "      <td>1</td>\n",
       "    </tr>\n",
       "    <tr>\n",
       "      <th>4</th>\n",
       "      <td>2006-01-01</td>\n",
       "      <td>43.0</td>\n",
       "      <td>BRONX</td>\n",
       "      <td>PATROL BORO BRONX</td>\n",
       "      <td>1</td>\n",
       "    </tr>\n",
       "  </tbody>\n",
       "</table>\n",
       "</div>"
      ],
      "text/plain": [
       "   Crime_date  ADDR_PCT_CD    BORO_NM            PATROL_BORO  Burglary_count\n",
       "0  2006-01-01          7.0  MANHATTAN  PATROL BORO MAN SOUTH               1\n",
       "1  2006-01-01          9.0  MANHATTAN  PATROL BORO MAN SOUTH               1\n",
       "2  2006-01-01         19.0  MANHATTAN  PATROL BORO MAN NORTH               1\n",
       "3  2006-01-01         28.0  MANHATTAN  PATROL BORO MAN NORTH               1\n",
       "4  2006-01-01         43.0      BRONX      PATROL BORO BRONX               1"
      ]
     },
     "execution_count": 16,
     "metadata": {},
     "output_type": "execute_result"
    }
   ],
   "source": [
    "Group_date = df.groupby(['Crime_date','ADDR_PCT_CD','BORO_NM','PATROL_BORO'], as_index=False)['PD_DESC'].count().rename(\n",
    "    columns={'PD_DESC': 'Burglary_count'})\n",
    "Group_date.head()"
   ]
  },
  {
   "cell_type": "code",
   "execution_count": 17,
   "metadata": {},
   "outputs": [
    {
     "data": {
      "text/html": [
       "<div>\n",
       "<style scoped>\n",
       "    .dataframe tbody tr th:only-of-type {\n",
       "        vertical-align: middle;\n",
       "    }\n",
       "\n",
       "    .dataframe tbody tr th {\n",
       "        vertical-align: top;\n",
       "    }\n",
       "\n",
       "    .dataframe thead th {\n",
       "        text-align: right;\n",
       "    }\n",
       "</style>\n",
       "<table border=\"1\" class=\"dataframe\">\n",
       "  <thead>\n",
       "    <tr style=\"text-align: right;\">\n",
       "      <th></th>\n",
       "      <th>Crime_date</th>\n",
       "      <th>ADDR_PCT_CD</th>\n",
       "      <th>BORO_NM</th>\n",
       "      <th>PATROL_BORO</th>\n",
       "      <th>Latitude</th>\n",
       "      <th>Longitude</th>\n",
       "    </tr>\n",
       "  </thead>\n",
       "  <tbody>\n",
       "    <tr>\n",
       "      <th>0</th>\n",
       "      <td>2006-01-01</td>\n",
       "      <td>7.0</td>\n",
       "      <td>MANHATTAN</td>\n",
       "      <td>PATROL BORO MAN SOUTH</td>\n",
       "      <td>40.717847</td>\n",
       "      <td>-73.985359</td>\n",
       "    </tr>\n",
       "    <tr>\n",
       "      <th>1</th>\n",
       "      <td>2006-01-01</td>\n",
       "      <td>9.0</td>\n",
       "      <td>MANHATTAN</td>\n",
       "      <td>PATROL BORO MAN SOUTH</td>\n",
       "      <td>40.729883</td>\n",
       "      <td>-73.985187</td>\n",
       "    </tr>\n",
       "    <tr>\n",
       "      <th>2</th>\n",
       "      <td>2006-01-01</td>\n",
       "      <td>19.0</td>\n",
       "      <td>MANHATTAN</td>\n",
       "      <td>PATROL BORO MAN NORTH</td>\n",
       "      <td>40.775290</td>\n",
       "      <td>-73.956567</td>\n",
       "    </tr>\n",
       "    <tr>\n",
       "      <th>3</th>\n",
       "      <td>2006-01-01</td>\n",
       "      <td>28.0</td>\n",
       "      <td>MANHATTAN</td>\n",
       "      <td>PATROL BORO MAN NORTH</td>\n",
       "      <td>40.803932</td>\n",
       "      <td>-73.950140</td>\n",
       "    </tr>\n",
       "    <tr>\n",
       "      <th>4</th>\n",
       "      <td>2006-01-01</td>\n",
       "      <td>43.0</td>\n",
       "      <td>BRONX</td>\n",
       "      <td>PATROL BORO BRONX</td>\n",
       "      <td>40.827860</td>\n",
       "      <td>-73.874180</td>\n",
       "    </tr>\n",
       "  </tbody>\n",
       "</table>\n",
       "</div>"
      ],
      "text/plain": [
       "   Crime_date  ADDR_PCT_CD    BORO_NM            PATROL_BORO   Latitude  \\\n",
       "0  2006-01-01          7.0  MANHATTAN  PATROL BORO MAN SOUTH  40.717847   \n",
       "1  2006-01-01          9.0  MANHATTAN  PATROL BORO MAN SOUTH  40.729883   \n",
       "2  2006-01-01         19.0  MANHATTAN  PATROL BORO MAN NORTH  40.775290   \n",
       "3  2006-01-01         28.0  MANHATTAN  PATROL BORO MAN NORTH  40.803932   \n",
       "4  2006-01-01         43.0      BRONX      PATROL BORO BRONX  40.827860   \n",
       "\n",
       "   Longitude  \n",
       "0 -73.985359  \n",
       "1 -73.985187  \n",
       "2 -73.956567  \n",
       "3 -73.950140  \n",
       "4 -73.874180  "
      ]
     },
     "execution_count": 17,
     "metadata": {},
     "output_type": "execute_result"
    }
   ],
   "source": [
    "Group_date2 = df.groupby(['Crime_date','ADDR_PCT_CD','BORO_NM','PATROL_BORO'], as_index=False)['Latitude','Longitude'].mean().rename(\n",
    "    columns={'PD_DESC': 'Burglary_count'})\n",
    "Group_date2.head()"
   ]
  },
  {
   "cell_type": "code",
   "execution_count": 18,
   "metadata": {},
   "outputs": [
    {
     "data": {
      "text/html": [
       "<div>\n",
       "<style scoped>\n",
       "    .dataframe tbody tr th:only-of-type {\n",
       "        vertical-align: middle;\n",
       "    }\n",
       "\n",
       "    .dataframe tbody tr th {\n",
       "        vertical-align: top;\n",
       "    }\n",
       "\n",
       "    .dataframe thead th {\n",
       "        text-align: right;\n",
       "    }\n",
       "</style>\n",
       "<table border=\"1\" class=\"dataframe\">\n",
       "  <thead>\n",
       "    <tr style=\"text-align: right;\">\n",
       "      <th></th>\n",
       "      <th>Crime_date</th>\n",
       "      <th>ADDR_PCT_CD</th>\n",
       "      <th>BORO_NM</th>\n",
       "      <th>PATROL_BORO</th>\n",
       "      <th>Burglary_count</th>\n",
       "      <th>Latitude</th>\n",
       "      <th>Longitude</th>\n",
       "    </tr>\n",
       "  </thead>\n",
       "  <tbody>\n",
       "    <tr>\n",
       "      <th>0</th>\n",
       "      <td>2006-01-01</td>\n",
       "      <td>7.0</td>\n",
       "      <td>MANHATTAN</td>\n",
       "      <td>PATROL BORO MAN SOUTH</td>\n",
       "      <td>1</td>\n",
       "      <td>40.717847</td>\n",
       "      <td>-73.985359</td>\n",
       "    </tr>\n",
       "    <tr>\n",
       "      <th>1</th>\n",
       "      <td>2006-01-01</td>\n",
       "      <td>9.0</td>\n",
       "      <td>MANHATTAN</td>\n",
       "      <td>PATROL BORO MAN SOUTH</td>\n",
       "      <td>1</td>\n",
       "      <td>40.729883</td>\n",
       "      <td>-73.985187</td>\n",
       "    </tr>\n",
       "    <tr>\n",
       "      <th>2</th>\n",
       "      <td>2006-01-01</td>\n",
       "      <td>19.0</td>\n",
       "      <td>MANHATTAN</td>\n",
       "      <td>PATROL BORO MAN NORTH</td>\n",
       "      <td>1</td>\n",
       "      <td>40.775290</td>\n",
       "      <td>-73.956567</td>\n",
       "    </tr>\n",
       "    <tr>\n",
       "      <th>3</th>\n",
       "      <td>2006-01-01</td>\n",
       "      <td>28.0</td>\n",
       "      <td>MANHATTAN</td>\n",
       "      <td>PATROL BORO MAN NORTH</td>\n",
       "      <td>1</td>\n",
       "      <td>40.803932</td>\n",
       "      <td>-73.950140</td>\n",
       "    </tr>\n",
       "    <tr>\n",
       "      <th>4</th>\n",
       "      <td>2006-01-01</td>\n",
       "      <td>43.0</td>\n",
       "      <td>BRONX</td>\n",
       "      <td>PATROL BORO BRONX</td>\n",
       "      <td>1</td>\n",
       "      <td>40.827860</td>\n",
       "      <td>-73.874180</td>\n",
       "    </tr>\n",
       "  </tbody>\n",
       "</table>\n",
       "</div>"
      ],
      "text/plain": [
       "   Crime_date  ADDR_PCT_CD    BORO_NM            PATROL_BORO  Burglary_count  \\\n",
       "0  2006-01-01          7.0  MANHATTAN  PATROL BORO MAN SOUTH               1   \n",
       "1  2006-01-01          9.0  MANHATTAN  PATROL BORO MAN SOUTH               1   \n",
       "2  2006-01-01         19.0  MANHATTAN  PATROL BORO MAN NORTH               1   \n",
       "3  2006-01-01         28.0  MANHATTAN  PATROL BORO MAN NORTH               1   \n",
       "4  2006-01-01         43.0      BRONX      PATROL BORO BRONX               1   \n",
       "\n",
       "    Latitude  Longitude  \n",
       "0  40.717847 -73.985359  \n",
       "1  40.729883 -73.985187  \n",
       "2  40.775290 -73.956567  \n",
       "3  40.803932 -73.950140  \n",
       "4  40.827860 -73.874180  "
      ]
     },
     "execution_count": 18,
     "metadata": {},
     "output_type": "execute_result"
    }
   ],
   "source": [
    "data_grup = pd.merge(Group_date,Group_date2, how='left',on=['Crime_date','ADDR_PCT_CD','BORO_NM','PATROL_BORO'])\n",
    "data_grup.head()"
   ]
  },
  {
   "cell_type": "code",
   "execution_count": 19,
   "metadata": {},
   "outputs": [],
   "source": [
    "import copy"
   ]
  },
  {
   "cell_type": "code",
   "execution_count": 20,
   "metadata": {
    "scrolled": false
   },
   "outputs": [],
   "source": [
    "data =copy.copy(data_grup)"
   ]
  },
  {
   "cell_type": "code",
   "execution_count": 21,
   "metadata": {},
   "outputs": [
    {
     "data": {
      "text/plain": [
       "(1, 12)"
      ]
     },
     "execution_count": 21,
     "metadata": {},
     "output_type": "execute_result"
    }
   ],
   "source": [
    "data.Burglary_count.min(),data.Burglary_count.max()"
   ]
  },
  {
   "cell_type": "code",
   "execution_count": 22,
   "metadata": {},
   "outputs": [
    {
     "data": {
      "text/plain": [
       "('2006-01-01', '2018-03-31')"
      ]
     },
     "execution_count": 22,
     "metadata": {},
     "output_type": "execute_result"
    }
   ],
   "source": [
    "data.Crime_date.min(),data.Crime_date.max()"
   ]
  },
  {
   "cell_type": "code",
   "execution_count": 30,
   "metadata": {
    "scrolled": true
   },
   "outputs": [
    {
     "name": "stderr",
     "output_type": "stream",
     "text": [
      "C:\\ProgramData\\Anaconda3\\lib\\site-packages\\pandas\\plotting\\_converter.py:129: FutureWarning: Using an implicitly registered datetime converter for a matplotlib plotting method. The converter was registered by pandas on import. Future versions of pandas will require you to explicitly register matplotlib converters.\n",
      "\n",
      "To register the converters:\n",
      "\t>>> from pandas.plotting import register_matplotlib_converters\n",
      "\t>>> register_matplotlib_converters()\n",
      "  warnings.warn(msg, FutureWarning)\n"
     ]
    },
    {
     "data": {
      "text/plain": [
       "Text(0, 0.5, 'Number of home burglaries')"
      ]
     },
     "execution_count": 30,
     "metadata": {},
     "output_type": "execute_result"
    },
    {
     "data": {
      "image/png": "[encoded data removed]",
      "text/plain": [
       "<Figure size 1080x720 with 1 Axes>"
      ]
     },
     "metadata": {},
     "output_type": "display_data"
    }
   ],
   "source": [
    "fig = plt.figure(figsize=(15,10))\n",
    "\n",
    "ax1 = fig.add_subplot(211)\n",
    "temp = data.groupby(['Crime_date']).count()\n",
    "ax1.plot(temp,'purple',linewidth=1)\n",
    "ax1.set_xlabel('Date',fontsize=20)\n",
    "ax1.set_ylabel('Number of home burglaries',fontsize=20)"
   ]
  },
  {
   "cell_type": "code",
   "execution_count": 31,
   "metadata": {},
   "outputs": [],
   "source": [
    "data['month'] = data['Crime_date'].dt.month \n",
    "data['day'] = data['Crime_date'].dt.day\n",
    "data['dw'] = data['Crime_date'].dt.dayofweek\n",
    "data['dy'] = data['Crime_date'].dt.dayofyear\n",
    "data['year'] = data['Crime_date'].dt.year"
   ]
  },
  {
   "cell_type": "code",
   "execution_count": 32,
   "metadata": {},
   "outputs": [
    {
     "name": "stderr",
     "output_type": "stream",
     "text": [
      "C:\\ProgramData\\Anaconda3\\lib\\site-packages\\pandas\\plotting\\_core.py:185: UserWarning: 'colors' is being deprecated. Please use 'color'instead of 'colors'\n",
      "  warnings.warn((\"'colors' is being deprecated. Please use 'color'\"\n"
     ]
    },
    {
     "data": {
      "image/png": "[encoded data removed]",
      "text/plain": [
       "<Figure size 1152x864 with 1 Axes>"
      ]
     },
     "metadata": {},
     "output_type": "display_data"
    }
   ],
   "source": [
    "# Quick plot for data check\n",
    "data.plot(kind = 'scatter', x = 'Longitude', y = 'Latitude', marker = 'o', alpha = 0.1,figsize = (16,12),colors='blue');"
   ]
  },
  {
   "cell_type": "code",
   "execution_count": 179,
   "metadata": {},
   "outputs": [],
   "source": [
    "Data = Data.replace(np.nan, 0)"
   ]
  },
  {
   "cell_type": "code",
   "execution_count": 34,
   "metadata": {},
   "outputs": [
    {
     "name": "stdout",
     "output_type": "stream",
     "text": [
      "<class 'pandas.core.frame.DataFrame'>\n",
      "Int64Index: 111300 entries, 0 to 111299\n",
      "Data columns (total 12 columns):\n",
      "Crime_date        111300 non-null datetime64[ns]\n",
      "ADDR_PCT_CD       111300 non-null float64\n",
      "BORO_NM           111300 non-null object\n",
      "PATROL_BORO       111300 non-null object\n",
      "Burglary_count    111300 non-null int64\n",
      "Latitude          110993 non-null float64\n",
      "Longitude         110993 non-null float64\n",
      "month             111300 non-null int64\n",
      "day               111300 non-null int64\n",
      "dw                111300 non-null int64\n",
      "dy                111300 non-null int64\n",
      "year              111300 non-null int64\n",
      "dtypes: datetime64[ns](1), float64(3), int64(6), object(2)\n",
      "memory usage: 11.0+ MB\n"
     ]
    }
   ],
   "source": [
    "data.info()"
   ]
  },
  {
   "cell_type": "markdown",
   "metadata": {},
   "source": [
    "### 1.3  One Hat Encoding"
   ]
  },
  {
   "cell_type": "code",
   "execution_count": 35,
   "metadata": {},
   "outputs": [],
   "source": [
    "def our_hat_code(myData, colQuery):\n",
    "    temp = list(myData[colQuery].unique())\n",
    "    print(temp)\n",
    "    n = len(temp) \n",
    "    print(n)\n",
    "    for ii in range(0,n):\n",
    "        myData[temp[ii]] = None\n",
    "        myData.loc[(myData[colQuery] == temp[ii] ),temp[ii]] = 1\n",
    "        myData.loc[(myData[colQuery] != temp[ii]),temp[ii]] = 0\n"
   ]
  },
  {
   "cell_type": "code",
   "execution_count": 36,
   "metadata": {},
   "outputs": [
    {
     "name": "stdout",
     "output_type": "stream",
     "text": [
      "['MANHATTAN', 'BRONX', 'BROOKLYN', 'QUEENS', 'STATEN ISLAND']\n",
      "5\n"
     ]
    }
   ],
   "source": [
    "# One Hat Encoding for Device\n",
    "data['BORO_NM'] = data['BORO_NM'].astype('category')\n",
    "our_hat_code(data,'BORO_NM')"
   ]
  },
  {
   "cell_type": "code",
   "execution_count": 37,
   "metadata": {},
   "outputs": [
    {
     "name": "stdout",
     "output_type": "stream",
     "text": [
      "['PATROL BORO MAN SOUTH', 'PATROL BORO MAN NORTH', 'PATROL BORO BRONX', 'PATROL BORO BKLYN SOUTH', 'PATROL BORO BKLYN NORTH', 'PATROL BORO QUEENS SOUTH', 'PATROL BORO QUEENS NORTH', 'PATROL BORO STATEN ISLAND']\n",
      "8\n"
     ]
    }
   ],
   "source": [
    "# One Hat Encoding for Device\n",
    "data['PATROL_BORO'] = data['PATROL_BORO'].astype('category')\n",
    "our_hat_code(data,'PATROL_BORO')"
   ]
  },
  {
   "cell_type": "code",
   "execution_count": 38,
   "metadata": {},
   "outputs": [
    {
     "name": "stdout",
     "output_type": "stream",
     "text": [
      "[1, 2, 3, 4, 5, 6, 7, 8, 9, 10, 11, 12]\n",
      "12\n"
     ]
    }
   ],
   "source": [
    "# One Hat Encoding for Device\n",
    "data['month'] = data['month'].astype('category')\n",
    "our_hat_code(data,'month')"
   ]
  },
  {
   "cell_type": "code",
   "execution_count": 39,
   "metadata": {},
   "outputs": [
    {
     "name": "stdout",
     "output_type": "stream",
     "text": [
      "[6, 0, 1, 2, 3, 4, 5]\n",
      "7\n"
     ]
    }
   ],
   "source": [
    "# One Hat Encoding for Device\n",
    "data['dw'] = data['dw'].astype('category')\n",
    "our_hat_code(data,'dw')"
   ]
  },
  {
   "cell_type": "code",
   "execution_count": 40,
   "metadata": {},
   "outputs": [
    {
     "name": "stdout",
     "output_type": "stream",
     "text": [
      "[2006, 2007, 2008, 2009, 2010, 2011, 2012, 2013, 2014, 2015, 2016, 2017, 2018]\n",
      "13\n"
     ]
    }
   ],
   "source": [
    "# One Hat Encoding for Device\n",
    "data['year'] = data['year'].astype('category')\n",
    "our_hat_code(data,'year')"
   ]
  },
  {
   "cell_type": "code",
   "execution_count": 41,
   "metadata": {},
   "outputs": [
    {
     "name": "stdout",
     "output_type": "stream",
     "text": [
      "<class 'pandas.core.frame.DataFrame'>\n",
      "Int64Index: 111300 entries, 0 to 111299\n",
      "Data columns (total 51 columns):\n",
      "Crime_date                   111300 non-null datetime64[ns]\n",
      "ADDR_PCT_CD                  111300 non-null float64\n",
      "BORO_NM                      111300 non-null category\n",
      "PATROL_BORO                  111300 non-null category\n",
      "Burglary_count               111300 non-null int64\n",
      "Latitude                     110993 non-null float64\n",
      "Longitude                    110993 non-null float64\n",
      "month                        111300 non-null category\n",
      "day                          111300 non-null int64\n",
      "dw                           111300 non-null category\n",
      "dy                           111300 non-null int64\n",
      "year                         111300 non-null category\n",
      "MANHATTAN                    111300 non-null int64\n",
      "BRONX                        111300 non-null int64\n",
      "BROOKLYN                     111300 non-null int64\n",
      "QUEENS                       111300 non-null int64\n",
      "STATEN ISLAND                111300 non-null int64\n",
      "PATROL BORO MAN SOUTH        111300 non-null int64\n",
      "PATROL BORO MAN NORTH        111300 non-null int64\n",
      "PATROL BORO BRONX            111300 non-null int64\n",
      "PATROL BORO BKLYN SOUTH      111300 non-null int64\n",
      "PATROL BORO BKLYN NORTH      111300 non-null int64\n",
      "PATROL BORO QUEENS SOUTH     111300 non-null int64\n",
      "PATROL BORO QUEENS NORTH     111300 non-null int64\n",
      "PATROL BORO STATEN ISLAND    111300 non-null int64\n",
      "1                            111300 non-null int64\n",
      "2                            111300 non-null int64\n",
      "3                            111300 non-null int64\n",
      "4                            111300 non-null int64\n",
      "5                            111300 non-null int64\n",
      "6                            111300 non-null int64\n",
      "7                            111300 non-null int64\n",
      "8                            111300 non-null int64\n",
      "9                            111300 non-null int64\n",
      "10                           111300 non-null int64\n",
      "11                           111300 non-null int64\n",
      "12                           111300 non-null int64\n",
      "0                            111300 non-null int64\n",
      "2006                         111300 non-null int64\n",
      "2007                         111300 non-null int64\n",
      "2008                         111300 non-null int64\n",
      "2009                         111300 non-null int64\n",
      "2010                         111300 non-null int64\n",
      "2011                         111300 non-null int64\n",
      "2012                         111300 non-null int64\n",
      "2013                         111300 non-null int64\n",
      "2014                         111300 non-null int64\n",
      "2015                         111300 non-null int64\n",
      "2016                         111300 non-null int64\n",
      "2017                         111300 non-null int64\n",
      "2018                         111300 non-null int64\n",
      "dtypes: category(5), datetime64[ns](1), float64(3), int64(42)\n",
      "memory usage: 40.4 MB\n"
     ]
    }
   ],
   "source": [
    "data.info()"
   ]
  },
  {
   "cell_type": "code",
   "execution_count": 60,
   "metadata": {},
   "outputs": [],
   "source": [
    "data.to_csv(r'C:\\Users\\Katy\\Downloads\\Home_Task_Localize\\data_1_hot.csv')"
   ]
  },
  {
   "cell_type": "markdown",
   "metadata": {},
   "source": [
    "## 2. Forecast and model selection"
   ]
  },
  {
   "cell_type": "markdown",
   "metadata": {},
   "source": [
    "### 2.1 Train test partition"
   ]
  },
  {
   "cell_type": "code",
   "execution_count": 29,
   "metadata": {
    "_cell_guid": "899733d1-b239-4cb5-9d87-b16f9ab0111b",
    "_uuid": "b8e3eceff3d3edb5f3617fd5a7799f0947fb9f60"
   },
   "outputs": [],
   "source": [
    "# Data Aggregation\n",
    "Data = pd.read_csv('data_1_hot.csv')"
   ]
  },
  {
   "cell_type": "code",
   "execution_count": 30,
   "metadata": {},
   "outputs": [
    {
     "data": {
      "text/html": [
       "<div>\n",
       "<style scoped>\n",
       "    .dataframe tbody tr th:only-of-type {\n",
       "        vertical-align: middle;\n",
       "    }\n",
       "\n",
       "    .dataframe tbody tr th {\n",
       "        vertical-align: top;\n",
       "    }\n",
       "\n",
       "    .dataframe thead th {\n",
       "        text-align: right;\n",
       "    }\n",
       "</style>\n",
       "<table border=\"1\" class=\"dataframe\">\n",
       "  <thead>\n",
       "    <tr style=\"text-align: right;\">\n",
       "      <th></th>\n",
       "      <th>Unnamed: 0</th>\n",
       "      <th>Crime_date</th>\n",
       "      <th>ADDR_PCT_CD</th>\n",
       "      <th>BORO_NM</th>\n",
       "      <th>PATROL_BORO</th>\n",
       "      <th>Burglary_count</th>\n",
       "      <th>Latitude</th>\n",
       "      <th>Longitude</th>\n",
       "      <th>month</th>\n",
       "      <th>day</th>\n",
       "      <th>...</th>\n",
       "      <th>2009</th>\n",
       "      <th>2010</th>\n",
       "      <th>2011</th>\n",
       "      <th>2012</th>\n",
       "      <th>2013</th>\n",
       "      <th>2014</th>\n",
       "      <th>2015</th>\n",
       "      <th>2016</th>\n",
       "      <th>2017</th>\n",
       "      <th>2018</th>\n",
       "    </tr>\n",
       "  </thead>\n",
       "  <tbody>\n",
       "    <tr>\n",
       "      <th>0</th>\n",
       "      <td>0</td>\n",
       "      <td>2006-01-01</td>\n",
       "      <td>7.0</td>\n",
       "      <td>MANHATTAN</td>\n",
       "      <td>PATROL BORO MAN SOUTH</td>\n",
       "      <td>1</td>\n",
       "      <td>40.717847</td>\n",
       "      <td>-73.985359</td>\n",
       "      <td>1</td>\n",
       "      <td>1</td>\n",
       "      <td>...</td>\n",
       "      <td>0</td>\n",
       "      <td>0</td>\n",
       "      <td>0</td>\n",
       "      <td>0</td>\n",
       "      <td>0</td>\n",
       "      <td>0</td>\n",
       "      <td>0</td>\n",
       "      <td>0</td>\n",
       "      <td>0</td>\n",
       "      <td>0</td>\n",
       "    </tr>\n",
       "    <tr>\n",
       "      <th>1</th>\n",
       "      <td>1</td>\n",
       "      <td>2006-01-01</td>\n",
       "      <td>9.0</td>\n",
       "      <td>MANHATTAN</td>\n",
       "      <td>PATROL BORO MAN SOUTH</td>\n",
       "      <td>1</td>\n",
       "      <td>40.729883</td>\n",
       "      <td>-73.985187</td>\n",
       "      <td>1</td>\n",
       "      <td>1</td>\n",
       "      <td>...</td>\n",
       "      <td>0</td>\n",
       "      <td>0</td>\n",
       "      <td>0</td>\n",
       "      <td>0</td>\n",
       "      <td>0</td>\n",
       "      <td>0</td>\n",
       "      <td>0</td>\n",
       "      <td>0</td>\n",
       "      <td>0</td>\n",
       "      <td>0</td>\n",
       "    </tr>\n",
       "    <tr>\n",
       "      <th>2</th>\n",
       "      <td>2</td>\n",
       "      <td>2006-01-01</td>\n",
       "      <td>19.0</td>\n",
       "      <td>MANHATTAN</td>\n",
       "      <td>PATROL BORO MAN NORTH</td>\n",
       "      <td>1</td>\n",
       "      <td>40.775290</td>\n",
       "      <td>-73.956567</td>\n",
       "      <td>1</td>\n",
       "      <td>1</td>\n",
       "      <td>...</td>\n",
       "      <td>0</td>\n",
       "      <td>0</td>\n",
       "      <td>0</td>\n",
       "      <td>0</td>\n",
       "      <td>0</td>\n",
       "      <td>0</td>\n",
       "      <td>0</td>\n",
       "      <td>0</td>\n",
       "      <td>0</td>\n",
       "      <td>0</td>\n",
       "    </tr>\n",
       "    <tr>\n",
       "      <th>3</th>\n",
       "      <td>3</td>\n",
       "      <td>2006-01-01</td>\n",
       "      <td>28.0</td>\n",
       "      <td>MANHATTAN</td>\n",
       "      <td>PATROL BORO MAN NORTH</td>\n",
       "      <td>1</td>\n",
       "      <td>40.803932</td>\n",
       "      <td>-73.950140</td>\n",
       "      <td>1</td>\n",
       "      <td>1</td>\n",
       "      <td>...</td>\n",
       "      <td>0</td>\n",
       "      <td>0</td>\n",
       "      <td>0</td>\n",
       "      <td>0</td>\n",
       "      <td>0</td>\n",
       "      <td>0</td>\n",
       "      <td>0</td>\n",
       "      <td>0</td>\n",
       "      <td>0</td>\n",
       "      <td>0</td>\n",
       "    </tr>\n",
       "    <tr>\n",
       "      <th>4</th>\n",
       "      <td>4</td>\n",
       "      <td>2006-01-01</td>\n",
       "      <td>43.0</td>\n",
       "      <td>BRONX</td>\n",
       "      <td>PATROL BORO BRONX</td>\n",
       "      <td>1</td>\n",
       "      <td>40.827860</td>\n",
       "      <td>-73.874180</td>\n",
       "      <td>1</td>\n",
       "      <td>1</td>\n",
       "      <td>...</td>\n",
       "      <td>0</td>\n",
       "      <td>0</td>\n",
       "      <td>0</td>\n",
       "      <td>0</td>\n",
       "      <td>0</td>\n",
       "      <td>0</td>\n",
       "      <td>0</td>\n",
       "      <td>0</td>\n",
       "      <td>0</td>\n",
       "      <td>0</td>\n",
       "    </tr>\n",
       "  </tbody>\n",
       "</table>\n",
       "<p>5 rows × 52 columns</p>\n",
       "</div>"
      ],
      "text/plain": [
       "   Unnamed: 0  Crime_date  ADDR_PCT_CD    BORO_NM            PATROL_BORO  \\\n",
       "0           0  2006-01-01          7.0  MANHATTAN  PATROL BORO MAN SOUTH   \n",
       "1           1  2006-01-01          9.0  MANHATTAN  PATROL BORO MAN SOUTH   \n",
       "2           2  2006-01-01         19.0  MANHATTAN  PATROL BORO MAN NORTH   \n",
       "3           3  2006-01-01         28.0  MANHATTAN  PATROL BORO MAN NORTH   \n",
       "4           4  2006-01-01         43.0      BRONX      PATROL BORO BRONX   \n",
       "\n",
       "   Burglary_count   Latitude  Longitude  month  day  ...  2009  2010 2011  \\\n",
       "0               1  40.717847 -73.985359      1    1  ...     0     0    0   \n",
       "1               1  40.729883 -73.985187      1    1  ...     0     0    0   \n",
       "2               1  40.775290 -73.956567      1    1  ...     0     0    0   \n",
       "3               1  40.803932 -73.950140      1    1  ...     0     0    0   \n",
       "4               1  40.827860 -73.874180      1    1  ...     0     0    0   \n",
       "\n",
       "   2012  2013  2014  2015  2016  2017  2018  \n",
       "0     0     0     0     0     0     0     0  \n",
       "1     0     0     0     0     0     0     0  \n",
       "2     0     0     0     0     0     0     0  \n",
       "3     0     0     0     0     0     0     0  \n",
       "4     0     0     0     0     0     0     0  \n",
       "\n",
       "[5 rows x 52 columns]"
      ]
     },
     "execution_count": 30,
     "metadata": {},
     "output_type": "execute_result"
    }
   ],
   "source": [
    "Data.head()"
   ]
  },
  {
   "cell_type": "code",
   "execution_count": 31,
   "metadata": {},
   "outputs": [],
   "source": [
    "Data['date'] = pd.to_datetime(Data['Crime_date'],  format='%Y/%m/%d')"
   ]
  },
  {
   "cell_type": "code",
   "execution_count": 32,
   "metadata": {},
   "outputs": [],
   "source": [
    "Data = Data.drop(['Unnamed: 0'], axis=1)"
   ]
  },
  {
   "cell_type": "code",
   "execution_count": 33,
   "metadata": {},
   "outputs": [],
   "source": [
    "Data = Data.replace(np.nan, 0)"
   ]
  },
  {
   "cell_type": "code",
   "execution_count": 34,
   "metadata": {},
   "outputs": [
    {
     "name": "stdout",
     "output_type": "stream",
     "text": [
      "<class 'pandas.core.frame.DataFrame'>\n",
      "RangeIndex: 111300 entries, 0 to 111299\n",
      "Data columns (total 52 columns):\n",
      "Crime_date                   111300 non-null object\n",
      "ADDR_PCT_CD                  111300 non-null float64\n",
      "BORO_NM                      111300 non-null object\n",
      "PATROL_BORO                  111300 non-null object\n",
      "Burglary_count               111300 non-null int64\n",
      "Latitude                     111300 non-null float64\n",
      "Longitude                    111300 non-null float64\n",
      "month                        111300 non-null int64\n",
      "day                          111300 non-null int64\n",
      "dw                           111300 non-null int64\n",
      "dy                           111300 non-null int64\n",
      "year                         111300 non-null object\n",
      "MANHATTAN                    111300 non-null int64\n",
      "BRONX                        111300 non-null int64\n",
      "BROOKLYN                     111300 non-null int64\n",
      "QUEENS                       111300 non-null int64\n",
      "STATEN ISLAND                111300 non-null int64\n",
      "PATROL BORO MAN SOUTH        111300 non-null int64\n",
      "PATROL BORO MAN NORTH        111300 non-null int64\n",
      "PATROL BORO BRONX            111300 non-null int64\n",
      "PATROL BORO BKLYN SOUTH      111300 non-null int64\n",
      "PATROL BORO BKLYN NORTH      111300 non-null int64\n",
      "PATROL BORO QUEENS SOUTH     111300 non-null int64\n",
      "PATROL BORO QUEENS NORTH     111300 non-null int64\n",
      "PATROL BORO STATEN ISLAND    111300 non-null int64\n",
      "1                            111300 non-null int64\n",
      "2                            111300 non-null int64\n",
      "3                            111300 non-null int64\n",
      "4                            111300 non-null int64\n",
      "5                            111300 non-null int64\n",
      "6                            111300 non-null int64\n",
      "7                            111300 non-null int64\n",
      "8                            111300 non-null int64\n",
      "9                            111300 non-null int64\n",
      "10                           111300 non-null int64\n",
      "11                           111300 non-null int64\n",
      "12                           111300 non-null int64\n",
      "0                            111300 non-null int64\n",
      "2006                         111300 non-null int64\n",
      "2007                         111300 non-null int64\n",
      "2008                         111300 non-null int64\n",
      "2009                         111300 non-null int64\n",
      "2010                         111300 non-null int64\n",
      "2011                         111300 non-null int64\n",
      "2012                         111300 non-null int64\n",
      "2013                         111300 non-null int64\n",
      "2014                         111300 non-null int64\n",
      "2015                         111300 non-null int64\n",
      "2016                         111300 non-null int64\n",
      "2017                         111300 non-null int64\n",
      "2018                         111300 non-null int64\n",
      "date                         111300 non-null datetime64[ns]\n",
      "dtypes: datetime64[ns](1), float64(3), int64(44), object(4)\n",
      "memory usage: 44.2+ MB\n"
     ]
    }
   ],
   "source": [
    "Data.info()"
   ]
  },
  {
   "cell_type": "code",
   "execution_count": 35,
   "metadata": {},
   "outputs": [],
   "source": [
    "del Data['Crime_date']"
   ]
  },
  {
   "cell_type": "code",
   "execution_count": 36,
   "metadata": {},
   "outputs": [],
   "source": [
    "col = [c for c in Data if c not in ['BORO_NM','PATROL_BORO','month','dw','year','Crime_date']]"
   ]
  },
  {
   "cell_type": "code",
   "execution_count": 37,
   "metadata": {},
   "outputs": [],
   "source": [
    "X=Data[col]\n",
    "X_train = Data[Data.date <'2018-01-01'][col]\n",
    "X_test = Data[Data.date >='2018-01-01'][col]\n",
    "\n",
    "y_train =Data[Data.date <'2018-01-01']['Burglary_count'].values\n",
    "y_test = Data[Data.date >='2018-01-01']['Burglary_count'].values"
   ]
  },
  {
   "cell_type": "code",
   "execution_count": 38,
   "metadata": {},
   "outputs": [],
   "source": [
    "import time"
   ]
  },
  {
   "cell_type": "code",
   "execution_count": 39,
   "metadata": {},
   "outputs": [],
   "source": [
    "X_train['date']= list(map(lambda x: time.mktime(x.timetuple()),X_train['date']))"
   ]
  },
  {
   "cell_type": "code",
   "execution_count": 40,
   "metadata": {},
   "outputs": [],
   "source": [
    "X_test['date']=list(map(lambda x: time.mktime(x.timetuple()),X_test['date']))"
   ]
  },
  {
   "cell_type": "markdown",
   "metadata": {},
   "source": [
    "### 2.2 Model selection"
   ]
  },
  {
   "cell_type": "code",
   "execution_count": 41,
   "metadata": {},
   "outputs": [],
   "source": [
    "def MSE(y, pred):\n",
    "    return metrics.mean_squared_error(y, pred)"
   ]
  },
  {
   "cell_type": "code",
   "execution_count": 42,
   "metadata": {},
   "outputs": [],
   "source": [
    "#nan_rows = data_y[data_y.isnull().T.any().T]"
   ]
  },
  {
   "cell_type": "code",
   "execution_count": 43,
   "metadata": {},
   "outputs": [],
   "source": [
    "col_sab = ['date','ADDR_PCT_CD','Burglary_count']"
   ]
  },
  {
   "cell_type": "code",
   "execution_count": 44,
   "metadata": {},
   "outputs": [
    {
     "data": {
      "text/html": [
       "<div>\n",
       "<style scoped>\n",
       "    .dataframe tbody tr th:only-of-type {\n",
       "        vertical-align: middle;\n",
       "    }\n",
       "\n",
       "    .dataframe tbody tr th {\n",
       "        vertical-align: top;\n",
       "    }\n",
       "\n",
       "    .dataframe thead th {\n",
       "        text-align: right;\n",
       "    }\n",
       "</style>\n",
       "<table border=\"1\" class=\"dataframe\">\n",
       "  <thead>\n",
       "    <tr style=\"text-align: right;\">\n",
       "      <th></th>\n",
       "      <th>date</th>\n",
       "      <th>ADDR_PCT_CD</th>\n",
       "      <th>Burglary_count</th>\n",
       "    </tr>\n",
       "  </thead>\n",
       "  <tbody>\n",
       "    <tr>\n",
       "      <th>109888</th>\n",
       "      <td>2018-01-01</td>\n",
       "      <td>7.0</td>\n",
       "      <td>1</td>\n",
       "    </tr>\n",
       "    <tr>\n",
       "      <th>109889</th>\n",
       "      <td>2018-01-01</td>\n",
       "      <td>28.0</td>\n",
       "      <td>2</td>\n",
       "    </tr>\n",
       "    <tr>\n",
       "      <th>109890</th>\n",
       "      <td>2018-01-01</td>\n",
       "      <td>32.0</td>\n",
       "      <td>1</td>\n",
       "    </tr>\n",
       "    <tr>\n",
       "      <th>109891</th>\n",
       "      <td>2018-01-01</td>\n",
       "      <td>43.0</td>\n",
       "      <td>1</td>\n",
       "    </tr>\n",
       "    <tr>\n",
       "      <th>109892</th>\n",
       "      <td>2018-01-01</td>\n",
       "      <td>44.0</td>\n",
       "      <td>2</td>\n",
       "    </tr>\n",
       "  </tbody>\n",
       "</table>\n",
       "</div>"
      ],
      "text/plain": [
       "             date  ADDR_PCT_CD  Burglary_count\n",
       "109888 2018-01-01          7.0               1\n",
       "109889 2018-01-01         28.0               2\n",
       "109890 2018-01-01         32.0               1\n",
       "109891 2018-01-01         43.0               1\n",
       "109892 2018-01-01         44.0               2"
      ]
     },
     "execution_count": 44,
     "metadata": {},
     "output_type": "execute_result"
    }
   ],
   "source": [
    "test_sab =Data[Data.date >='2018-01-01'][col_sab]\n",
    "test_sab.head()"
   ]
  },
  {
   "cell_type": "code",
   "execution_count": 45,
   "metadata": {},
   "outputs": [],
   "source": [
    "model1 = ensemble.GradientBoostingRegressor(learning_rate=0.2, random_state=3, n_estimators=200, subsample=0.8, \n",
    "                      max_depth =10)"
   ]
  },
  {
   "cell_type": "code",
   "execution_count": 46,
   "metadata": {},
   "outputs": [],
   "source": [
    "model2 = neighbors.KNeighborsRegressor(n_jobs=-1, n_neighbors=4)"
   ]
  },
  {
   "cell_type": "code",
   "execution_count": 47,
   "metadata": {},
   "outputs": [],
   "source": [
    "from sklearn.ensemble import RandomForestRegressor"
   ]
  },
  {
   "cell_type": "code",
   "execution_count": 48,
   "metadata": {},
   "outputs": [],
   "source": [
    "model3 = RandomForestRegressor(max_depth=2, random_state=0)"
   ]
  },
  {
   "cell_type": "code",
   "execution_count": 49,
   "metadata": {},
   "outputs": [],
   "source": [
    "model4 = ensemble.ExtraTreesRegressor(n_estimators=225, max_depth=5, n_jobs=-1, random_state=3)"
   ]
  },
  {
   "cell_type": "code",
   "execution_count": 50,
   "metadata": {},
   "outputs": [
    {
     "data": {
      "text/plain": [
       "GradientBoostingRegressor(alpha=0.9, criterion='friedman_mse', init=None,\n",
       "             learning_rate=0.2, loss='ls', max_depth=10, max_features=None,\n",
       "             max_leaf_nodes=None, min_impurity_decrease=0.0,\n",
       "             min_impurity_split=None, min_samples_leaf=1,\n",
       "             min_samples_split=2, min_weight_fraction_leaf=0.0,\n",
       "             n_estimators=200, n_iter_no_change=None, presort='auto',\n",
       "             random_state=3, subsample=0.8, tol=0.0001,\n",
       "             validation_fraction=0.1, verbose=0, warm_start=False)"
      ]
     },
     "execution_count": 50,
     "metadata": {},
     "output_type": "execute_result"
    }
   ],
   "source": [
    "model1.fit(X_train, y_train)"
   ]
  },
  {
   "cell_type": "code",
   "execution_count": 51,
   "metadata": {},
   "outputs": [
    {
     "data": {
      "text/plain": [
       "KNeighborsRegressor(algorithm='auto', leaf_size=30, metric='minkowski',\n",
       "          metric_params=None, n_jobs=-1, n_neighbors=4, p=2,\n",
       "          weights='uniform')"
      ]
     },
     "execution_count": 51,
     "metadata": {},
     "output_type": "execute_result"
    }
   ],
   "source": [
    "model2.fit(X_train, y_train)"
   ]
  },
  {
   "cell_type": "code",
   "execution_count": 53,
   "metadata": {},
   "outputs": [
    {
     "name": "stderr",
     "output_type": "stream",
     "text": [
      "C:\\ProgramData\\Anaconda3\\lib\\site-packages\\sklearn\\ensemble\\forest.py:246: FutureWarning: The default value of n_estimators will change from 10 in version 0.20 to 100 in 0.22.\n",
      "  \"10 in version 0.20 to 100 in 0.22.\", FutureWarning)\n"
     ]
    },
    {
     "data": {
      "text/plain": [
       "RandomForestRegressor(bootstrap=True, criterion='mse', max_depth=2,\n",
       "           max_features='auto', max_leaf_nodes=None,\n",
       "           min_impurity_decrease=0.0, min_impurity_split=None,\n",
       "           min_samples_leaf=1, min_samples_split=2,\n",
       "           min_weight_fraction_leaf=0.0, n_estimators=10, n_jobs=None,\n",
       "           oob_score=False, random_state=0, verbose=0, warm_start=False)"
      ]
     },
     "execution_count": 53,
     "metadata": {},
     "output_type": "execute_result"
    }
   ],
   "source": [
    "model3.fit(X_train,y_train)"
   ]
  },
  {
   "cell_type": "code",
   "execution_count": 54,
   "metadata": {},
   "outputs": [
    {
     "data": {
      "text/plain": [
       "ExtraTreesRegressor(bootstrap=False, criterion='mse', max_depth=5,\n",
       "          max_features='auto', max_leaf_nodes=None,\n",
       "          min_impurity_decrease=0.0, min_impurity_split=None,\n",
       "          min_samples_leaf=1, min_samples_split=2,\n",
       "          min_weight_fraction_leaf=0.0, n_estimators=225, n_jobs=-1,\n",
       "          oob_score=False, random_state=3, verbose=0, warm_start=False)"
      ]
     },
     "execution_count": 54,
     "metadata": {},
     "output_type": "execute_result"
    }
   ],
   "source": [
    "model4.fit(X_train, y_train)"
   ]
  },
  {
   "cell_type": "code",
   "execution_count": 55,
   "metadata": {},
   "outputs": [],
   "source": [
    "preds1 = model1.predict(X_test)"
   ]
  },
  {
   "cell_type": "code",
   "execution_count": 56,
   "metadata": {},
   "outputs": [],
   "source": [
    "preds2 = model2.predict(X_test)"
   ]
  },
  {
   "cell_type": "code",
   "execution_count": 57,
   "metadata": {},
   "outputs": [],
   "source": [
    "preds3 = model3.predict(X_test)"
   ]
  },
  {
   "cell_type": "code",
   "execution_count": 58,
   "metadata": {},
   "outputs": [],
   "source": [
    "preds4 = model4.predict(X_test)"
   ]
  },
  {
   "cell_type": "code",
   "execution_count": 59,
   "metadata": {},
   "outputs": [],
   "source": [
    "def MSE(y, pred):\n",
    "    return metrics.mean_squared_error(y, pred)"
   ]
  },
  {
   "cell_type": "code",
   "execution_count": 60,
   "metadata": {},
   "outputs": [
    {
     "name": "stdout",
     "output_type": "stream",
     "text": [
      "MSE GradientBoostingRegressor:  4.45831572147222e-08\n"
     ]
    }
   ],
   "source": [
    "print('MSE GradientBoostingRegressor: ', MSE(y_test, preds1))"
   ]
  },
  {
   "cell_type": "code",
   "execution_count": 61,
   "metadata": {},
   "outputs": [
    {
     "name": "stdout",
     "output_type": "stream",
     "text": [
      "MSE KNeighborsRegressor:  0.3211756373937677\n"
     ]
    }
   ],
   "source": [
    "print('MSE KNeighborsRegressor: ', MSE(y_test, preds2))"
   ]
  },
  {
   "cell_type": "code",
   "execution_count": 62,
   "metadata": {},
   "outputs": [
    {
     "name": "stdout",
     "output_type": "stream",
     "text": [
      "MSE RandomForestRegressor:  0.0044318468865460125\n"
     ]
    }
   ],
   "source": [
    "print('MSE RandomForestRegressor: ', MSE(y_test, preds3))"
   ]
  },
  {
   "cell_type": "code",
   "execution_count": 63,
   "metadata": {},
   "outputs": [
    {
     "name": "stdout",
     "output_type": "stream",
     "text": [
      "RMSE ExtraTreesRegressor:  0.0005492867218953993\n"
     ]
    }
   ],
   "source": [
    "print('RMSE ExtraTreesRegressor: ', MSE(y_test, preds4))"
   ]
  },
  {
   "cell_type": "markdown",
   "metadata": {},
   "source": [
    "### 2.3 Import solutions with the best model"
   ]
  },
  {
   "cell_type": "code",
   "execution_count": 67,
   "metadata": {},
   "outputs": [],
   "source": [
    "test_sab['predict'] = model1.predict(X_test)"
   ]
  },
  {
   "cell_type": "code",
   "execution_count": 69,
   "metadata": {},
   "outputs": [
    {
     "data": {
      "text/html": [
       "<div>\n",
       "<style scoped>\n",
       "    .dataframe tbody tr th:only-of-type {\n",
       "        vertical-align: middle;\n",
       "    }\n",
       "\n",
       "    .dataframe tbody tr th {\n",
       "        vertical-align: top;\n",
       "    }\n",
       "\n",
       "    .dataframe thead th {\n",
       "        text-align: right;\n",
       "    }\n",
       "</style>\n",
       "<table border=\"1\" class=\"dataframe\">\n",
       "  <thead>\n",
       "    <tr style=\"text-align: right;\">\n",
       "      <th></th>\n",
       "      <th>date</th>\n",
       "      <th>ADDR_PCT_CD</th>\n",
       "      <th>Burglary_count</th>\n",
       "      <th>predict</th>\n",
       "    </tr>\n",
       "  </thead>\n",
       "  <tbody>\n",
       "    <tr>\n",
       "      <th>109888</th>\n",
       "      <td>2018-01-01</td>\n",
       "      <td>7.0</td>\n",
       "      <td>1</td>\n",
       "      <td>1.000160</td>\n",
       "    </tr>\n",
       "    <tr>\n",
       "      <th>109889</th>\n",
       "      <td>2018-01-01</td>\n",
       "      <td>28.0</td>\n",
       "      <td>2</td>\n",
       "      <td>1.999754</td>\n",
       "    </tr>\n",
       "    <tr>\n",
       "      <th>109890</th>\n",
       "      <td>2018-01-01</td>\n",
       "      <td>32.0</td>\n",
       "      <td>1</td>\n",
       "      <td>1.000160</td>\n",
       "    </tr>\n",
       "    <tr>\n",
       "      <th>109891</th>\n",
       "      <td>2018-01-01</td>\n",
       "      <td>43.0</td>\n",
       "      <td>1</td>\n",
       "      <td>1.000160</td>\n",
       "    </tr>\n",
       "    <tr>\n",
       "      <th>109892</th>\n",
       "      <td>2018-01-01</td>\n",
       "      <td>44.0</td>\n",
       "      <td>2</td>\n",
       "      <td>1.999754</td>\n",
       "    </tr>\n",
       "  </tbody>\n",
       "</table>\n",
       "</div>"
      ],
      "text/plain": [
       "             date  ADDR_PCT_CD  Burglary_count   predict\n",
       "109888 2018-01-01          7.0               1  1.000160\n",
       "109889 2018-01-01         28.0               2  1.999754\n",
       "109890 2018-01-01         32.0               1  1.000160\n",
       "109891 2018-01-01         43.0               1  1.000160\n",
       "109892 2018-01-01         44.0               2  1.999754"
      ]
     },
     "execution_count": 69,
     "metadata": {},
     "output_type": "execute_result"
    }
   ],
   "source": [
    "test_sab.head()"
   ]
  },
  {
   "cell_type": "code",
   "execution_count": 70,
   "metadata": {},
   "outputs": [
    {
     "data": {
      "text/plain": [
       "(1412, 4)"
      ]
     },
     "execution_count": 70,
     "metadata": {},
     "output_type": "execute_result"
    }
   ],
   "source": [
    "test_sab.shape"
   ]
  },
  {
   "cell_type": "code",
   "execution_count": 72,
   "metadata": {},
   "outputs": [
    {
     "data": {
      "text/html": [
       "<div>\n",
       "<style scoped>\n",
       "    .dataframe tbody tr th:only-of-type {\n",
       "        vertical-align: middle;\n",
       "    }\n",
       "\n",
       "    .dataframe tbody tr th {\n",
       "        vertical-align: top;\n",
       "    }\n",
       "\n",
       "    .dataframe thead th {\n",
       "        text-align: right;\n",
       "    }\n",
       "</style>\n",
       "<table border=\"1\" class=\"dataframe\">\n",
       "  <thead>\n",
       "    <tr style=\"text-align: right;\">\n",
       "      <th></th>\n",
       "      <th>date</th>\n",
       "      <th>ADDR_PCT_CD</th>\n",
       "      <th>Burglary_count</th>\n",
       "      <th>predict</th>\n",
       "    </tr>\n",
       "  </thead>\n",
       "  <tbody>\n",
       "    <tr>\n",
       "      <th>109892</th>\n",
       "      <td>2018-01-01</td>\n",
       "      <td>44.0</td>\n",
       "      <td>2</td>\n",
       "      <td>1.999754</td>\n",
       "    </tr>\n",
       "    <tr>\n",
       "      <th>109907</th>\n",
       "      <td>2018-01-02</td>\n",
       "      <td>44.0</td>\n",
       "      <td>1</td>\n",
       "      <td>1.000160</td>\n",
       "    </tr>\n",
       "    <tr>\n",
       "      <th>109984</th>\n",
       "      <td>2018-01-08</td>\n",
       "      <td>44.0</td>\n",
       "      <td>1</td>\n",
       "      <td>1.000160</td>\n",
       "    </tr>\n",
       "    <tr>\n",
       "      <th>110054</th>\n",
       "      <td>2018-01-12</td>\n",
       "      <td>44.0</td>\n",
       "      <td>1</td>\n",
       "      <td>1.000160</td>\n",
       "    </tr>\n",
       "    <tr>\n",
       "      <th>110087</th>\n",
       "      <td>2018-01-14</td>\n",
       "      <td>44.0</td>\n",
       "      <td>1</td>\n",
       "      <td>1.000160</td>\n",
       "    </tr>\n",
       "  </tbody>\n",
       "</table>\n",
       "</div>"
      ],
      "text/plain": [
       "             date  ADDR_PCT_CD  Burglary_count   predict\n",
       "109892 2018-01-01         44.0               2  1.999754\n",
       "109907 2018-01-02         44.0               1  1.000160\n",
       "109984 2018-01-08         44.0               1  1.000160\n",
       "110054 2018-01-12         44.0               1  1.000160\n",
       "110087 2018-01-14         44.0               1  1.000160"
      ]
     },
     "execution_count": 72,
     "metadata": {},
     "output_type": "execute_result"
    }
   ],
   "source": [
    "Submission =test_sab[test_sab.ADDR_PCT_CD == 44]\n",
    "Submission.head()"
   ]
  },
  {
   "cell_type": "code",
   "execution_count": 78,
   "metadata": {},
   "outputs": [],
   "source": [
    "import copy\n",
    "Submission1 = copy.copy(Submission)"
   ]
  },
  {
   "cell_type": "code",
   "execution_count": 80,
   "metadata": {},
   "outputs": [
    {
     "data": {
      "text/plain": [
       "(47.00242491416444, 47)"
      ]
     },
     "execution_count": 80,
     "metadata": {},
     "output_type": "execute_result"
    }
   ],
   "source": [
    "Submission1.predict.sum(),Submission1.Burglary_count.sum()"
   ]
  },
  {
   "cell_type": "code",
   "execution_count": 80,
   "metadata": {},
   "outputs": [
    {
     "data": {
      "text/plain": [
       "(47.00242491416444, 47)"
      ]
     },
     "execution_count": 80,
     "metadata": {},
     "output_type": "execute_result"
    }
   ],
   "source": [
    "Submission1.predict.sum(),Submission1.Burglary_count.sum()"
   ]
  },
  {
   "cell_type": "code",
   "execution_count": 74,
   "metadata": {},
   "outputs": [
    {
     "data": {
      "text/html": [
       "<div>\n",
       "<style scoped>\n",
       "    .dataframe tbody tr th:only-of-type {\n",
       "        vertical-align: middle;\n",
       "    }\n",
       "\n",
       "    .dataframe tbody tr th {\n",
       "        vertical-align: top;\n",
       "    }\n",
       "\n",
       "    .dataframe thead th {\n",
       "        text-align: right;\n",
       "    }\n",
       "</style>\n",
       "<table border=\"1\" class=\"dataframe\">\n",
       "  <thead>\n",
       "    <tr style=\"text-align: right;\">\n",
       "      <th></th>\n",
       "      <th>ADDR_PCT_CD</th>\n",
       "      <th>Burglary_count</th>\n",
       "      <th>predict</th>\n",
       "    </tr>\n",
       "  </thead>\n",
       "  <tbody>\n",
       "    <tr>\n",
       "      <th>count</th>\n",
       "      <td>38.0</td>\n",
       "      <td>38.00</td>\n",
       "      <td>38.00</td>\n",
       "    </tr>\n",
       "    <tr>\n",
       "      <th>mean</th>\n",
       "      <td>44.0</td>\n",
       "      <td>1.24</td>\n",
       "      <td>1.24</td>\n",
       "    </tr>\n",
       "    <tr>\n",
       "      <th>std</th>\n",
       "      <td>0.0</td>\n",
       "      <td>0.54</td>\n",
       "      <td>0.54</td>\n",
       "    </tr>\n",
       "    <tr>\n",
       "      <th>min</th>\n",
       "      <td>44.0</td>\n",
       "      <td>1.00</td>\n",
       "      <td>1.00</td>\n",
       "    </tr>\n",
       "    <tr>\n",
       "      <th>25%</th>\n",
       "      <td>44.0</td>\n",
       "      <td>1.00</td>\n",
       "      <td>1.00</td>\n",
       "    </tr>\n",
       "    <tr>\n",
       "      <th>50%</th>\n",
       "      <td>44.0</td>\n",
       "      <td>1.00</td>\n",
       "      <td>1.00</td>\n",
       "    </tr>\n",
       "    <tr>\n",
       "      <th>75%</th>\n",
       "      <td>44.0</td>\n",
       "      <td>1.00</td>\n",
       "      <td>1.00</td>\n",
       "    </tr>\n",
       "    <tr>\n",
       "      <th>max</th>\n",
       "      <td>44.0</td>\n",
       "      <td>3.00</td>\n",
       "      <td>3.00</td>\n",
       "    </tr>\n",
       "  </tbody>\n",
       "</table>\n",
       "</div>"
      ],
      "text/plain": [
       "       ADDR_PCT_CD  Burglary_count  predict\n",
       "count         38.0           38.00    38.00\n",
       "mean          44.0            1.24     1.24\n",
       "std            0.0            0.54     0.54\n",
       "min           44.0            1.00     1.00\n",
       "25%           44.0            1.00     1.00\n",
       "50%           44.0            1.00     1.00\n",
       "75%           44.0            1.00     1.00\n",
       "max           44.0            3.00     3.00"
      ]
     },
     "execution_count": 74,
     "metadata": {},
     "output_type": "execute_result"
    }
   ],
   "source": [
    "Submission.describe().round(2)"
   ]
  },
  {
   "cell_type": "code",
   "execution_count": 287,
   "metadata": {},
   "outputs": [
    {
     "name": "stdout",
     "output_type": "stream",
     "text": [
      "5.1135420306298717e-08\n"
     ]
    }
   ],
   "source": [
    "print(metrics.mean_squared_error(Submission['Burglary_count'], Submission['predict']))"
   ]
  },
  {
   "cell_type": "code",
   "execution_count": 81,
   "metadata": {},
   "outputs": [],
   "source": [
    "Submission1.to_csv(r'C:\\Users\\Katy\\Downloads\\Home_Task_Localize\\Submission1.csv')"
   ]
  },
  {
   "cell_type": "code",
   "execution_count": null,
   "metadata": {},
   "outputs": [],
   "source": []
  }
 ],
 "metadata": {
  "kernelspec": {
   "display_name": "Python 3",
   "language": "python",
   "name": "python3"
  },
  "language_info": {
   "codemirror_mode": {
    "name": "ipython",
    "version": 3
   },
   "file_extension": ".py",
   "mimetype": "text/x-python",
   "name": "python",
   "nbconvert_exporter": "python",
   "pygments_lexer": "ipython3",
   "version": "3.7.3"
  }
 },
 "nbformat": 4,
 "nbformat_minor": 1
}
